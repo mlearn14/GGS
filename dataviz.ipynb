{
 "cells": [
  {
   "cell_type": "markdown",
   "metadata": {},
   "source": [
    "# Glider Guidance System 2 Data Visualization\n",
    "Author: Matthew Learn (matt.learn@marine.rutgers.edu)<br><br>\n",
    "Jupyter Notebook meant for visualizing Glider Guidance System 2 (GGS2) products."
   ]
  },
  {
   "cell_type": "markdown",
   "metadata": {},
   "source": [
    "## Parameter Selection\n",
    "Here is a list of all parameters and what they do:\n",
    "| Variable | Data Type | Valid Inputs/Format | Notes |\n",
    "|---|---|---|---|\n",
    "| MISSION_NAME | str | \"mission\" | Name of the mission configuration. |\n",
    "| START_DATE | str | \"YYYY-MM-DD\", \"today\", \"tomorrow\", \"yesterday\", or `None` | Sample start date |\n",
    "| END_DATE | str | \"YYYY-MM-DD\", \"today\", \"tomorrow\", \"yesterday\", or `None` | Sample end date |\n",
    "| SW_COORD | tuple(float, float) | (-90 - 90, -180 - 180) | Southwest boundary coordinate |\n",
    "| NE_COORD | tuple(float, float) | (-90 - 90, -180 - 180) | Northeast boundary coordinate |\n",
    "| MAX_DEPTH | int | 0 - 1000 (recommended) | Maximum working depth (m) of glider model |\n",
    "| CMEMS | bool | True - False | European Model |\n",
    "| ESPC | bool | True - False | Navy Model |\n",
    "| RTOFS_EAST | bool | True - False | NOAA model for US east coast |\n",
    "| RTOFS_WEST | bool | True - False | NOAA model for US west coast |\n",
    "| RTOFS_PARALLEL | bool | True - False | Experimental NOAA model for east coast |\n",
    "| COMPUTE_OPTIMAL_PATH | bool | True - False | Compute the optimal path using an A* algorithm |\n",
    "| WAYPOINTS | list(tuple) | [(lat1, lon1), ..., (latx, lonx)] | List of coordinates to pass into the A* algorithm. Minimum of 2 points are required |\n",
    "| GLIDER_RAW_SPEED | float | 0.5 (recommended) | Raw speed of glider model |\n",
    "| INDIVIDUAL_PLOTS | bool | True - False | Make plots of individual model products |\n",
    "| SPEED_DIFFERENCE | bool | True - False | Make plots of the differences depth averaged speeds of each non-repeating pair of models |\n",
    "| U_DIFFERENCE | bool | True - False | Make plots of the difference of the eastward depth averaged velocity component of each non-repeating pair of models |\n",
    "| V_DIFFERENCE | bool | True - False | Make plots of the difference of the northward depth averaged velocity component of each non-repeating pair of models |\n",
    "| MEAN_DIFFERENCES | bool | True - False | Plot the mean of the differences of each non-repeating pair of models |\n",
    "| SIMPLE_MEAN | bool | True - False | Plot the simple mean of all selected model combinations |\n",
    "| RMS_VERTICAL_DIFFERENCE | bool | True - False | Plot the root mean square vertical difference between all selected model combinations |\n",
    "| PLOT_MAGNITUDES | bool | True - False | Make a plot of depth averaged current magnitude contours |\n",
    "| PLOT_MAGNITUDE_THRESHOLDS | bool | True - False | Make a plot of depth averaged current magnitude threshold contours |\n",
    "| VECTOR_TYPE | string | \"quiver\", \"streamplot\", None | Determines the vector type of the plot to show current direction |\n",
    "| STREAMLINE_DENSITY | int | --- | Density of streamlines. Higher number = denser streamlines |\n",
    "| QUIVER_DOWNSCALING | int | --- | Downsampling scalar for quiver plots. Higher number = Less quivers |\n",
    "| SAVE_FIGURES | bool | True - False | Save figures locally in the GGS/figures directory |\n",
    "| save_config | bool | True - False | Save current options as a JSON file |\n",
    "| config_directory | str | \"relative_path\" | Directory that the config file will save to |\n",
    "| load_config | bool | True - False | Load locally stored config file |\n",
    "| config_name | str | \"filename\" | File name of the locally stored config file |\n",
    "\n",
    "__WARNING__: Failure to adhere to variable formatting will result in unexpected errors.<br><br>\n",
    "In the cell below, parameters may be selected. To run the GGS, click the __two triangles__ on the ribbon at the top of the page. For those using VS Code, it will be the `Run All` button."
   ]
  },
  {
   "cell_type": "markdown",
   "metadata": {},
   "source": [
    "## Config Generator\n",
    "Please edit any parameters here!"
   ]
  },
  {
   "cell_type": "code",
   "execution_count": null,
   "metadata": {
    "tags": [
     "parameters"
    ]
   },
   "outputs": [],
   "source": [
    "# Mission Parameters\n",
    "MISSION_NAME = \"example mission\"\n",
    "\n",
    "# Subset Parameters\n",
    "START_DATE = \"tomorrow\"\n",
    "END_DATE = None\n",
    "SW_COORD = (34, -74)\n",
    "NE_COORD = (45, -50)\n",
    "MAX_DEPTH = 1000\n",
    "\n",
    "# Model Parameters\n",
    "CMEMS = True\n",
    "ESPC = True\n",
    "RTOFS_EAST = True\n",
    "RTOFS_WEST = False\n",
    "RTOFS_PARALLEL = True\n",
    "\n",
    "# Pathfinding Parameters\n",
    "COMPUTE_OPTIMAL_PATH = True\n",
    "WAYPOINTS = [(41.240, -70.958), (37.992, -71.248), (36.943, -66.862), (38.666, -62.978), (39.801, -60.653), (39.618, -55.87)]\n",
    "GLIDER_RAW_SPEED = 0.37\n",
    "\n",
    "# Plotting Parameters\n",
    "INDIVIDUAL_PLOTS = True\n",
    "\n",
    "SPEED_DIFFERENCE = True\n",
    "U_DIFFERENCE = True\n",
    "V_DIFFERENCE = True\n",
    "MEAN_DIFFERENCE = False\n",
    "SIMPLE_MEAN = False\n",
    "RMS_VERTICAL_DIFFERENCE = False\n",
    "\n",
    "PLOT_MAGNITUDES = True # used for both individual plots and simple mean plots\n",
    "PLOT_MAGNITUDE_THRESHOLDS = True\n",
    "\n",
    "VECTOR_TYPE = 'streamplot'\n",
    "STREAMLINE_DENSITY = 5\n",
    "QUIVER_DOWNSCALING = 6\n",
    "\n",
    "SAVE_FIGURES = False\n",
    "\n",
    "###################################################\n",
    "# Config File Parameters\n",
    "save_config = False\n",
    "config_directory = \"config\""
   ]
  },
  {
   "cell_type": "markdown",
   "metadata": {},
   "source": [
    "## Load In Previous Config\n",
    "Set `load_config` to `True` if loading in a config file that is already saved. Set `config_name` to the __file name without .json__ of the config file (case sensitive)."
   ]
  },
  {
   "cell_type": "code",
   "execution_count": null,
   "metadata": {},
   "outputs": [],
   "source": [
    "load_config = False\n",
    "config_name = \"TEST_MISSION\""
   ]
  },
  {
   "cell_type": "markdown",
   "metadata": {},
   "source": [
    "# **DO NOT EDIT ANYTHING BELOW THIS POINT!**"
   ]
  },
  {
   "cell_type": "markdown",
   "metadata": {},
   "source": [
    "## Format Parameters and Run Script"
   ]
  },
  {
   "cell_type": "code",
   "execution_count": 3,
   "metadata": {},
   "outputs": [],
   "source": [
    "%matplotlib inline\n",
    "\n",
    "import json\n",
    "import os\n",
    "\n",
    "if not load_config:\n",
    "    params = {\n",
    "        \"MISSION_NAME\": MISSION_NAME,\n",
    "        \"SUBSET\": {\n",
    "            \"TIME\": {\n",
    "                \"START_DATE\": START_DATE,\n",
    "                \"END_DATE\": END_DATE,\n",
    "            },\n",
    "            \"EXTENT\": {\n",
    "                \"SW_POINT\": SW_COORD,\n",
    "                \"NE_POINT\": NE_COORD,\n",
    "            },\n",
    "            \"MAX_DEPTH\": MAX_DEPTH,\n",
    "        },\n",
    "        \"MODELS\": {\n",
    "            \"CMEMS\": CMEMS,\n",
    "            \"ESPC\": ESPC,\n",
    "            \"RTOFS_EAST\": RTOFS_EAST,\n",
    "            \"RTOFS_WEST\": RTOFS_WEST,\n",
    "            \"RTOFS_PARALLEL\": RTOFS_PARALLEL,\n",
    "        },\n",
    "        \"PATHFINDING\": {\n",
    "            \"ENABLE\": COMPUTE_OPTIMAL_PATH,\n",
    "            \"ALGORITHM\": \"A*\",\n",
    "            \"HEURISTIC\": None,\n",
    "            \"WAYPOINTS\": WAYPOINTS,\n",
    "            \"GLIDER_RAW_SPEED\": GLIDER_RAW_SPEED,\n",
    "        },\n",
    "        \"PLOTTING\": {\n",
    "            \"INDIVIDUAL_PLOTS\": INDIVIDUAL_PLOTS,\n",
    "            \"COMPARISON_PLOTS\": {\n",
    "                \"SIMPLE_DIFFERENCE\": SPEED_DIFFERENCE,\n",
    "                \"U_DIFFERENCE\": U_DIFFERENCE,\n",
    "                \"V_DIFFERENCE\": V_DIFFERENCE,\n",
    "                \"MEAN_DIFFERENCE\": MEAN_DIFFERENCE,\n",
    "                \"SIMPLE_MEAN\": SIMPLE_MEAN,\n",
    "                \"RMS_VERTICAL_DIFFERENCE\": RMS_VERTICAL_DIFFERENCE,\n",
    "            },\n",
    "            \"PLOT_MAGNITUDES\": PLOT_MAGNITUDES,\n",
    "            \"PLOT_MAGNITUDE_THRESHOLDS\": PLOT_MAGNITUDE_THRESHOLDS,\n",
    "            \"PLOT_OPTIMAL_PATH\": COMPUTE_OPTIMAL_PATH,\n",
    "            \"VECTORS\": {\n",
    "                \"TYPE\": VECTOR_TYPE,\n",
    "                \"STREAMLINE_DENSITY\": STREAMLINE_DENSITY,\n",
    "                \"QUIVER_DOWNSCALING\": QUIVER_DOWNSCALING,\n",
    "            },\n",
    "            \"SAVE_FIGURES\": SAVE_FIGURES,\n",
    "        },\n",
    "    }\n",
    "\n",
    "    config_name = MISSION_NAME.lower().replace(\" \", \"_\")\n",
    "    config_path = f\"{config_directory}/{config_name}.json\"\n",
    "\n",
    "    if save_config:\n",
    "        os.makedirs(config_directory, exist_ok=True)\n",
    "        with open(config_path, \"w\") as f:\n",
    "            json.dump(params, f, indent=4)"
   ]
  },
  {
   "cell_type": "code",
   "execution_count": null,
   "metadata": {
    "tags": [
     "run main"
    ]
   },
   "outputs": [],
   "source": [
    "%run main.py --config_name $config_name"
   ]
  }
 ],
 "metadata": {
  "kernelspec": {
   "display_name": "ggs2",
   "language": "python",
   "name": "python3"
  },
  "language_info": {
   "codemirror_mode": {
    "name": "ipython",
    "version": 3
   },
   "file_extension": ".py",
   "mimetype": "text/x-python",
   "name": "python",
   "nbconvert_exporter": "python",
   "pygments_lexer": "ipython3",
   "version": "3.12.8"
  }
 },
 "nbformat": 4,
 "nbformat_minor": 4
}
